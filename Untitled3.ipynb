{
 "cells": [
  {
   "cell_type": "code",
   "execution_count": 2,
   "id": "a22a9658-4b5d-4c25-a634-ade8df724ba2",
   "metadata": {},
   "outputs": [],
   "source": [
    "import nltk\n",
    "#nltk.download(\"vader-lexicon\")"
   ]
  },
  {
   "cell_type": "code",
   "execution_count": 4,
   "id": "a1495820-8b7e-4a98-8954-0eb518350467",
   "metadata": {},
   "outputs": [
    {
     "name": "stdout",
     "output_type": "stream",
     "text": [
      "C:\\Users\\Administrator\\Downloads\n"
     ]
    }
   ],
   "source": [
    "cd Downloads\n"
   ]
  },
  {
   "cell_type": "code",
   "execution_count": 140,
   "id": "86565aee-7ca7-4bf3-92e9-2ca709df7ed7",
   "metadata": {},
   "outputs": [],
   "source": [
    "import pandas as pd\n",
    "from sklearn.feature_extraction.text import TfidfVectorizer"
   ]
  },
  {
   "cell_type": "code",
   "execution_count": 141,
   "id": "b2d732f7-f88d-4dbf-8a3c-8ce5e3433321",
   "metadata": {},
   "outputs": [
    {
     "name": "stdout",
     "output_type": "stream",
     "text": [
      " Volume in drive C has no label.\n",
      " Volume Serial Number is 4675-1D81\n",
      "\n",
      " Directory of C:\\Users\\Administrator\\Downloads\n",
      "\n",
      "06/28/2025  04:17 AM    <DIR>          .\n",
      "06/28/2025  04:17 AM    <DIR>          ..\n",
      "06/26/2025  08:23 AM    <DIR>          Anna.2019.1080p.BluRay.1600MB.DD5.1.x264-GalaxyRG[TGx]\n",
      "06/26/2025  02:08 PM    <DIR>          archive\n",
      "06/28/2025  03:59 AM         2,090,169 archive (1).zip\n",
      "06/28/2025  03:59 AM            14,603 archive (2).zip\n",
      "06/26/2025  08:40 AM            33,272 archive.zip\n",
      "06/25/2025  01:07 PM       128,016,552 dbeaver-ce-25.1.1-x86_64-setup.exe\n",
      "06/26/2025  06:22 AM        41,428,406 deluge-2.2.0-win64-setup.exe\n",
      "06/25/2025  09:21 AM       607,906,160 Docker Desktop Installer.exe\n",
      "06/27/2025  07:03 AM           621,291 Gemini_Generated_Image_sq4lgsq4lgsq4lgs.png\n",
      "06/27/2025  05:46 AM        70,800,288 Git-2.50.0-64-bit.exe\n",
      "06/27/2025  08:47 AM    <DIR>          images\n",
      "06/26/2025  03:31 AM        18,862,080 transmission-4.0.6-x64.msi\n",
      "08/09/2021  02:52 AM        10,325,088 twitter_training.csv\n",
      "08/09/2021  02:52 AM           164,351 twitter_validation.csv\n",
      "06/26/2025  07:28 AM        11,722,224 VC_redist.arm64.exe\n",
      "06/26/2025  08:06 AM    <DIR>          Visual-C-Runtimes-All-in-One-Jun-2025\n",
      "06/26/2025  07:32 AM       100,363,044 Visual-C-Runtimes-All-in-One-Jun-2025.zip\n",
      "06/26/2025  07:26 AM         4,457,408 VisualStudioSetup.exe\n",
      "06/26/2025  07:16 AM       111,317,912 VSCodeUserSetup-x64-1.101.2.exe\n",
      "06/25/2025  10:28 AM       648,113,120 whql-amd-software-adrenalin-edition-25.5.1-win10-win11-may8-vega-polaris.exe\n",
      "06/27/2025  06:15 AM    <DIR>          www.Torrenting.com - The.Night.Agent.S02E01.1080p.WEB.h264-ETHEL\n",
      "              16 File(s)  1,756,235,968 bytes\n",
      "               7 Dir(s)  119,486,877,696 bytes free\n"
     ]
    }
   ],
   "source": [
    "ls"
   ]
  },
  {
   "cell_type": "code",
   "execution_count": 142,
   "id": "01321c1f-4be6-476a-91a2-8bbdc1de1105",
   "metadata": {},
   "outputs": [],
   "source": [
    "df = pd.read_csv(\"twitter_training.csv\")"
   ]
  },
  {
   "cell_type": "code",
   "execution_count": 143,
   "id": "1cc4291e-9d7c-4549-a4fd-6b23691fd2f9",
   "metadata": {},
   "outputs": [],
   "source": [
    "df_n = df[df[\"Positive\"] != \"Irrelevant\"]"
   ]
  },
  {
   "cell_type": "code",
   "execution_count": 144,
   "id": "0f9a1d3c-57d9-4022-a4d1-676dfc069a57",
   "metadata": {},
   "outputs": [],
   "source": [
    "df_n.dropna(subset=\"im getting on borderlands and i will murder you all ,\",inplace=True)"
   ]
  },
  {
   "cell_type": "code",
   "execution_count": 145,
   "id": "1ba98c56-ddc0-44f4-8cdd-fb136fa35cd4",
   "metadata": {},
   "outputs": [
    {
     "data": {
      "text/plain": [
       "2401                                                     False\n",
       "Borderlands                                              False\n",
       "Positive                                                 False\n",
       "im getting on borderlands and i will murder you all ,    False\n",
       "dtype: bool"
      ]
     },
     "execution_count": 145,
     "metadata": {},
     "output_type": "execute_result"
    }
   ],
   "source": [
    "df_n.isna().any()"
   ]
  },
  {
   "cell_type": "code",
   "execution_count": 164,
   "id": "23670d68-227e-45df-bfe6-364e2679a091",
   "metadata": {},
   "outputs": [],
   "source": [
    "df[\"text\"] = df[\"im getting on borderlands and i will murder you all ,\"].str.strip().str.lower().str.replace(r\"[^\\w\\s]\", \"\",regex=True)"
   ]
  },
  {
   "cell_type": "code",
   "execution_count": 165,
   "id": "98b24d1d-1216-416f-aa11-96277056e9cd",
   "metadata": {},
   "outputs": [],
   "source": [
    "df_clean = df[[\"text\",\"Positive\"]]"
   ]
  },
  {
   "cell_type": "code",
   "execution_count": 166,
   "id": "20ce41ed-c555-46e5-9648-cd8f80524363",
   "metadata": {},
   "outputs": [],
   "source": [
    "df_clean.dropna(inplace=True)"
   ]
  },
  {
   "cell_type": "code",
   "execution_count": 167,
   "id": "d1fa19f8-ddd6-4cb4-9d31-7f28dc2f596a",
   "metadata": {},
   "outputs": [
    {
     "data": {
      "text/plain": [
       "text        0\n",
       "Positive    0\n",
       "dtype: int64"
      ]
     },
     "execution_count": 167,
     "metadata": {},
     "output_type": "execute_result"
    }
   ],
   "source": [
    "df_clean.isna().sum()"
   ]
  },
  {
   "cell_type": "code",
   "execution_count": 262,
   "id": "fa88febf-3c30-4926-b9f0-e157b7f15483",
   "metadata": {},
   "outputs": [],
   "source": [
    "vectorizer = TfidfVectorizer(\n",
    "    ngram_range=(1,2),\n",
    "    stop_words=\"english\",\n",
    "    max_df=0.84,\n",
    "    min_df=3,\n",
    "    max_features=1000,\n",
    "    smooth_idf=True\n",
    ")"
   ]
  },
  {
   "cell_type": "code",
   "execution_count": 263,
   "id": "cd5c231d-419e-401b-a0dc-67a6f3fa5f55",
   "metadata": {},
   "outputs": [],
   "source": [
    "y = df_clean[\"Positive\"]\n",
    "data = df_clean[\"text\"]"
   ]
  },
  {
   "cell_type": "code",
   "execution_count": 264,
   "id": "3ccdb382-1f6b-4086-88c0-306343725b8b",
   "metadata": {},
   "outputs": [],
   "source": [
    "data.dropna(inplace=True)"
   ]
  },
  {
   "cell_type": "code",
   "execution_count": 265,
   "id": "784ca76f-e8e0-448e-b184-032aa316c02e",
   "metadata": {},
   "outputs": [
    {
     "data": {
      "text/plain": [
       "np.False_"
      ]
     },
     "execution_count": 265,
     "metadata": {},
     "output_type": "execute_result"
    }
   ],
   "source": [
    "data.isna().any()"
   ]
  },
  {
   "cell_type": "code",
   "execution_count": 266,
   "id": "0027f7c5-7658-45c0-8169-4c6c270ba4c7",
   "metadata": {},
   "outputs": [],
   "source": [
    "X = vectorizer.fit_transform(data)"
   ]
  },
  {
   "cell_type": "code",
   "execution_count": 179,
   "id": "b6d22086-bfcc-4e98-9753-6ffdadef66ff",
   "metadata": {},
   "outputs": [
    {
     "data": {
      "text/plain": [
       "(73995, 1000)"
      ]
     },
     "execution_count": 179,
     "metadata": {},
     "output_type": "execute_result"
    }
   ],
   "source": [
    "X.shape"
   ]
  },
  {
   "cell_type": "code",
   "execution_count": 180,
   "id": "de8d7c55-fb92-48d9-b07e-1549b85f892a",
   "metadata": {
    "scrolled": true
   },
   "outputs": [
    {
     "name": "stdout",
     "output_type": "stream",
     "text": [
      "['10' '100' '100 million' '11' '12' '13' '15' '16' '19' '20' '2019' '2020'\n",
      " '2077' '21' '24' '2k' '30' '3080' '50' '60' 'able' 'absolute'\n",
      " 'absolutely' 'access' 'access health' 'account' 'accounts' 'achievement'\n",
      " 'action' 'activision' 'actual' 'actually' 'add' 'added' 'ads' 'ago'\n",
      " 'agree' 'ai' 'aint' 'air' 'amazing' 'amazon' 'amazon gift' 'amd'\n",
      " 'america' 'american' 'angry' 'announce' 'annoying' 'anymore' 'apex'\n",
      " 'apex legends' 'app' 'apparently' 'apple' 'appreciate' 'apps' 'arent'\n",
      " 'art' 'article' 'ask' 'ass' 'assassins' 'assassins creed' 'auto'\n",
      " 'available' 'away' 'awesome' 'baby' 'baby powder' 'bad' 'ban'\n",
      " 'ban battlefield' 'banned' 'based' 'basically' 'battle' 'battlefield'\n",
      " 'battlefield player' 'bc' 'beat' 'beautiful' 'believe' 'beluba' 'best'\n",
      " 'beta' 'better' 'bf4dbcom' 'bf4dbcom player' 'big' 'biggest' 'birthday'\n",
      " 'bit' 'bitch' 'bitly' 'black' 'black ops' 'blizzard' 'blue' 'book'\n",
      " 'borderlands' 'boring' 'bought' 'box' 'boy' 'boys' 'brand' 'break'\n",
      " 'breakpoint' 'bring' 'bro' 'broke' 'broken' 'brother' 'brought' 'bruh'\n",
      " 'bug' 'bugs' 'bullshit' 'business' 'buy' 'buying' 'called' 'calling'\n",
      " 'callofduty' 'calls' 'came' 'campaign' 'canada' 'cancer' 'car' 'card'\n",
      " 'cards' 'care' 'care access' 'career' 'case' 'cause' 'chance'\n",
      " 'chance win' 'change' 'changes' 'channel' 'character' 'characters' 'chat'\n",
      " 'check' 'child' 'chinese' 'city' 'class' 'classic' 'click' 'clip' 'close'\n",
      " 'cod' 'code' 'cold' 'cold war' 'com' 'come' 'comes' 'coming' 'comments'\n",
      " 'commission' 'commission taken' 'community' 'companies' 'company'\n",
      " 'complete' 'completely' 'computer' 'congratulations' 'connection'\n",
      " 'console' 'consoles' 'content' 'continue' 'control' 'controller' 'cool'\n",
      " 'coronavirus' 'country' 'couple' 'course' 'covid' 'covid19' 'crap'\n",
      " 'crashes' 'crashing' 'crazy' 'created' 'creed' 'creed odyssey' 'cs'\n",
      " 'csgo' 'current' 'currently' 'currently 100' 'customer' 'customers' 'cut'\n",
      " 'cute' 'cuz' 'cyberpunk' 'cyberpunk 2077' 'cyberpunkgame' 'daily'\n",
      " 'damage' 'damn' 'dark' 'data' 'date' 'day' 'days' 'dead'\n",
      " 'dead redemption' 'deal' 'dear' 'death' 'decided' 'decision' 'deck'\n",
      " 'definitely' 'delayed' 'delivery' 'depot' 'design' 'despite'\n",
      " 'despite fact' 'details' 'details bf4dbcom' 'developers' 'did' 'didnt'\n",
      " 'die' 'died' 'different' 'digital' 'disappointed' 'dlc' 'does' 'doesnt'\n",
      " 'dog' 'doing' 'don' 'dont' 'dont care' 'dont know' 'dope' 'dota' 'dota2'\n",
      " 'download' 'drive' 'drop' 'dude' 'dumb' 'duty' 'dying' 'ea' 'eahelp'\n",
      " 'eamaddennfl' 'early' 'earned' 'easports' 'easy' 'edge' 'edition' 'email'\n",
      " 'employees' 'end' 'enjoy' 'enjoyed' 'enjoying' 'entire' 'epic' 'episode'\n",
      " 'error' 'especially' 'esports' 'eu' 'eu commission' 'event' 'everyday'\n",
      " 'evil' 'exactly' 'excellent' 'excited' 'exciting' 'expect' 'expensive'\n",
      " 'experience' 'extremely' 'face' 'facebook' 'fact' 'fact currently'\n",
      " 'failed' 'fake' 'fall' 'family' 'fan' 'fans' 'fantastic' 'far' 'fast'\n",
      " 'favorite' 'favourite' 'feel' 'feel like' 'feeling' 'feels' 'felt' 'fifa'\n",
      " 'fifa 20' 'fifa 21' 'fight' 'film' 'final' 'finally' 'fine' 'finish'\n",
      " 'finished' 'fix' 'fixed' 'folks' 'follow' 'forever' 'forget' 'forgot'\n",
      " 'fortnite' 'fortnitegame' 'forward' 'fps' 'franchise' 'free' 'friend'\n",
      " 'friends' 'fuck' 'fucked' 'fuckin' 'fucking' 'fun' 'funny' 'future'\n",
      " 'game' 'gameplay' 'gamers' 'games' 'gaming' 'garbage' 'gave' 'geforce'\n",
      " 'gen' 'gets' 'getting' 'ghost' 'ghostrecon' 'gift' 'gift card' 'girl'\n",
      " 'giveaway' 'given' 'gives' 'giving' 'glad' 'global' 'god' 'goes' 'going'\n",
      " 'gold' 'golden' 'gone' 'gonna' 'good' 'google' 'got' 'gotta' 'government'\n",
      " 'gpu' 'grand' 'grand theft' 'graphics' 'great' 'greatest' 'group' 'gta'\n",
      " 'gta online' 'guess' 'guy' 'guys' 'half' 'hand' 'hands' 'happen'\n",
      " 'happened' 'happening' 'happens' 'happy' 'happy birthday' 'hard' 'hate'\n",
      " 'havent' 'having' 'head' 'health' 'health care' 'health services' 'hear'\n",
      " 'heard' 'heart' 'hearthstone' 'hell' 'hello' 'help' 'helping' 'heres'\n",
      " 'hero' 'hes' 'hey' 'hi' 'high' 'history' 'hit' 'hold' 'holy' 'holy shit'\n",
      " 'home' 'home depot' 'homedepot' 'honestly' 'hope' 'hopefully' 'hot'\n",
      " 'hour' 'hours' 'house' 'https' 'https tco' 'huge' 'hyped' 'id' 'idea'\n",
      " 'idk' 'ill' 'illness' 'im' 'im excited' 'im going' 'im just' 'im really'\n",
      " 'imagine' 'important' 'including' 'incredible' 'india' 'information'\n",
      " 'insane' 'inside' 'instagram' 'instead' 'interesting' 'internet' 'iphone'\n",
      " 'isnt' 'issue' 'issues' 'italy' 'italy italy' 'item' 'ive' 'ive played'\n",
      " 'job' 'johnson' 'johnson johnson' 'join' 'joke' 'jump' 'just'\n",
      " 'just earned' 'just got' 'keeps' 'kid' 'kids' 'kill' 'killed' 'killing'\n",
      " 'kills' 'kind' 'kinda' 'know' 'knows' 'late' 'lately' 'later' 'latest'\n",
      " 'launch' 'league' 'league legends' 'leagueoflegends' 'learn' 'leave'\n",
      " 'left' 'legendary' 'legends' 'let' 'lets' 'level' 'lie' 'life' 'like'\n",
      " 'liked' 'line' 'line access' 'link' 'list' 'listen' 'literally' 'little'\n",
      " 'live' 'living' 'living poverty' 'lmao' 'load' 'log' 'lol' 'long'\n",
      " 'longer' 'look' 'looked' 'looking' 'looking forward' 'looks' 'looks like'\n",
      " 'lose' 'losing' 'lost' 'lot' 'love' 'loved' 'loving' 'low' 'lowes' 'luck'\n",
      " 'ly' 'mad' 'madden' 'main' 'major' 'make' 'makes' 'making' 'man' 'map'\n",
      " 'market' 'mask' 'massive' 'match' 'matter' 'maybe' 'mean' 'means' 'media'\n",
      " 'men' 'message' 'microsoft' 'million' 'million people' 'mind' 'minutes'\n",
      " 'miss' 'missing' 'mobile' 'mode' 'modern' 'modern warfare' 'moment'\n",
      " 'moments' 'money' 'month' 'months' 'morning' 'movie' 'music' 'myteam'\n",
      " 'n2k' 'nba' 'nba2k' 'nba2k_myteam' 'nearly' 'need' 'needs' 'network'\n",
      " 'new' 'news' 'nfl' 'nice' 'niggas' 'night' 'number' 'nvidia' 'occurred'\n",
      " 'occurred details' 'odyssey' 'office' 'official' 'oh' 'ok' 'okay' 'old'\n",
      " 'omg' 'ones' 'online' 'open' 'opinion' 'ops' 'ops cold' 'option' 'order'\n",
      " 'ordered' 'original' 'overwatch' 'page' 'paid' 'pandemic' 'party' 'pass'\n",
      " 'past' 'patch' 'pay' 'pc' 'people' 'people living' 'perfect'\n",
      " 'performance' 'person' 'phone' 'picfacebookcom' 'pick' 'pictwittercom'\n",
      " 'picwikipediaorg' 'piece' 'place' 'plan' 'platform' 'play' 'play game'\n",
      " 'playapex' 'played' 'player' 'player ban' 'players' 'playhearthstone'\n",
      " 'playing' 'playoverwatch' 'plays' 'playstation' 'pls' 'plus' 'plz'\n",
      " 'point' 'points' 'police' 'poor' 'possible' 'post' 'posted' 'poverty'\n",
      " 'poverty line' 'powder' 'power' 'powerful' 'ppl' 'pretty' 'price' 'prime'\n",
      " 'pro' 'probably' 'problem' 'problems' 'product' 'products' 'proud' 'ps'\n",
      " 'ps4' 'ps5' 'pubg' 'pubg mobile' 'quality' 'quick' 'quit' 'quite' 'quiz'\n",
      " 'racist' 'rainbow6game' 'random' 'ranked' 'read' 'reading' 'ready' 'real'\n",
      " 'really' 'really good' 'reason' 'received' 'recently' 'recommend' 'recon'\n",
      " 'red' 'red dead' 'redemption' 'release' 'released' 'remember' 'report'\n",
      " 'respect' 'response' 'rest' 'result' 'return' 'retweet' 'review'\n",
      " 'rewards' 'rhandlerr' 'rhandlerr rhandlerr' 'ridiculous' 'right' 'rip'\n",
      " 'rn' 'rockstargames' 'ronnie2k' 'room' 'round' 'row' 'rt' 'rtx' 'run'\n",
      " 'running' 'sad' 'safe' 'said' 'sale' 'sales' 'save' 'saw' 'say' 'saying'\n",
      " 'says' 'scam' 'school' 'screen' 'sea' 'search' 'season' 'second'\n",
      " 'security' 'seeing' 'seen' 'sell' 'selling' 'send' 'sense' 'sent'\n",
      " 'series' 'seriously' 'server' 'servers' 'service' 'services'\n",
      " 'services access' 'set' 'share' 'shit' 'shitty' 'shoot' 'shooting'\n",
      " 'short' 'shot' 'showing' 'shows' 'shut' 'sick' 'siege' 'sign' 'simple'\n",
      " 'simply' 'single' 'site' 'skin' 'skins' 'slow' 'small' 'smh' 'social'\n",
      " 'sold' 'song' 'sony' 'soon' 'sorry' 'sound' 'sounds' 'source' 'special'\n",
      " 'speed' 'spend' 'spent' 'sports' 'squad' 'star' 'start' 'started'\n",
      " 'starting' 'state' 'stay' 'steam' 'step' 'stock' 'stop' 'stop selling'\n",
      " 'stopped' 'store' 'storeplaystationcom' 'stores' 'story' 'straight'\n",
      " 'stream' 'streaming' 'strong' 'stuck' 'study' 'stuff' 'stupid' 'suck'\n",
      " 'sucks' 'suddenly' 'summoners' 'summoners watch' 'super' 'support' 'sure'\n",
      " 'sweet' 'switch' 'taken' 'taken step' 'takes' 'taking' 'talc' 'talcbased'\n",
      " 'talk' 'talking' 'tchtv' 'tco' 'team' 'teams' 'tech' 'technology' 'tell'\n",
      " 'terrible' 'test' 'tf' 'thank' 'thanks' 'thats' 'theft' 'theres' 'theyre'\n",
      " 'thing' 'things' 'think' 'thinking' 'tho' 'thought' 'till' 'time'\n",
      " 'time despite' 'time eu' 'times' 'tired' 'today' 'told' 'tomorrow'\n",
      " 'tonight' 'took' 'total' 'totally' 'tournament' 'toxic' 'trailer' 'trash'\n",
      " 'trial' 'tried' 'true' 'truly' 'trump' 'trust' 'try' 'trying' 'turn'\n",
      " 'turned' 'tv' 'tweet' 'twice' 'twitch' 'twitchtv' 'twitter' 'ubisoft'\n",
      " 'ubisoftsupport' 'uk' 'ultimate' 'understand' 'unit' 'unk' 'update'\n",
      " 'updates' 'ur' 'use' 'used' 'users' 'using' 'vaccine' 'valhalla'\n",
      " 'valorant' 'valve' 've' 'verizon' 'version' 'video' 'video game'\n",
      " 'video games' 'videos' 'voice' 'vs' 'wait' 'waiting' 'walmart' 'wanna'\n",
      " 'want' 'wanted' 'wants' 'war' 'warcraft' 'warfare' 'warzone' 'wasnt'\n",
      " 'watch' 'watch video' 'watched' 'watching' 'way' 'website' 'week'\n",
      " 'weekend' 'weeks' 'weird' 'welcome' 'went' 'whats' 'white' 'wild' 'win'\n",
      " 'win play' 'windows' 'winning' 'wins' 'wish' 'women' 'won' 'wonder'\n",
      " 'wonderful' 'wont' 'word' 'work' 'worked' 'workers' 'working' 'works'\n",
      " 'world' 'world warcraft' 'worse' 'worst' 'worth' 'wouldnt' 'wow' 'wrong'\n",
      " 'wtf' 'xbox' 'xbox series' 'ya' 'yall' 'yeah' 'year' 'years' 'yes'\n",
      " 'yesterday' 'yo' 'youre' 'youtu' 'youtube' 'youtubecom' 'zero']\n"
     ]
    }
   ],
   "source": [
    "print(vectorizer.get_feature_names_out())\n",
    "#print(X.toarray())"
   ]
  },
  {
   "cell_type": "code",
   "execution_count": 181,
   "id": "692f1328-0adb-435e-a061-177c72654e98",
   "metadata": {},
   "outputs": [
    {
     "name": "stdout",
     "output_type": "stream",
     "text": [
      "3 really rhandlerr  rhandlerr   some gets upset and they ddos the server and we get a ban for it  and a lose like does no one care for console players  can you actually make something to ban these players or something pictwittercoml3lyjyhx6d\n"
     ]
    }
   ],
   "source": [
    "print(df['text'].iloc[56679])\n"
   ]
  },
  {
   "cell_type": "code",
   "execution_count": 182,
   "id": "012a7db9-e4bb-4cbe-83f4-d50c033377f8",
   "metadata": {},
   "outputs": [
    {
     "name": "stdout",
     "output_type": "stream",
     "text": [
      "        10  100  100 million   11   12   13   15   16   19   20  ...  year  \\\n",
      "21679  0.0  0.0          0.0  0.0  0.0  0.0  0.0  0.0  0.0  0.0  ...   0.0   \n",
      "39295  0.0  0.0          0.0  0.0  0.0  0.0  0.0  0.0  0.0  0.0  ...   0.0   \n",
      "32082  0.0  0.0          0.0  0.0  0.0  0.0  0.0  0.0  0.0  0.0  ...   0.0   \n",
      "9669   0.0  0.0          0.0  0.0  0.0  0.0  0.0  0.0  0.0  0.0  ...   0.0   \n",
      "73940  0.0  0.0          0.0  0.0  0.0  0.0  0.0  0.0  0.0  0.0  ...   0.0   \n",
      "370    0.0  0.0          0.0  0.0  0.0  0.0  0.0  0.0  0.0  0.0  ...   0.0   \n",
      "39228  0.0  0.0          0.0  0.0  0.0  0.0  0.0  0.0  0.0  0.0  ...   0.0   \n",
      "2204   0.0  0.0          0.0  0.0  0.0  0.0  0.0  0.0  0.0  0.0  ...   0.0   \n",
      "51061  0.0  0.0          0.0  0.0  0.0  0.0  0.0  0.0  0.0  0.0  ...   0.0   \n",
      "9087   0.0  0.0          0.0  0.0  0.0  0.0  0.0  0.0  0.0  0.0  ...   0.0   \n",
      "57021  0.0  0.0          0.0  0.0  0.0  0.0  0.0  0.0  0.0  0.0  ...   0.0   \n",
      "49679  0.0  0.0          0.0  0.0  0.0  0.0  0.0  0.0  0.0  0.0  ...   0.0   \n",
      "60189  0.0  0.0          0.0  0.0  0.0  0.0  0.0  0.0  0.0  0.0  ...   0.0   \n",
      "16443  0.0  0.0          0.0  0.0  0.0  0.0  0.0  0.0  0.0  0.0  ...   0.0   \n",
      "30118  0.0  0.0          0.0  0.0  0.0  0.0  0.0  0.0  0.0  0.0  ...   0.0   \n",
      "16862  0.0  0.0          0.0  0.0  0.0  0.0  0.0  0.0  0.0  0.0  ...   0.0   \n",
      "18666  0.0  0.0          0.0  0.0  0.0  0.0  0.0  0.0  0.0  0.0  ...   0.0   \n",
      "35279  0.0  0.0          0.0  0.0  0.0  0.0  0.0  0.0  0.0  0.0  ...   0.0   \n",
      "10668  0.0  0.0          0.0  0.0  0.0  0.0  0.0  0.0  0.0  0.0  ...   0.0   \n",
      "51802  0.0  0.0          0.0  0.0  0.0  0.0  0.0  0.0  0.0  0.0  ...   0.0   \n",
      "27586  0.0  0.0          0.0  0.0  0.0  0.0  0.0  0.0  0.0  0.0  ...   0.0   \n",
      "17659  0.0  0.0          0.0  0.0  0.0  0.0  0.0  0.0  0.0  0.0  ...   0.0   \n",
      "4816   0.0  0.0          0.0  0.0  0.0  0.0  0.0  0.0  0.0  0.0  ...   0.0   \n",
      "9015   0.0  0.0          0.0  0.0  0.0  0.0  0.0  0.0  0.0  0.0  ...   0.0   \n",
      "11066  0.0  0.0          0.0  0.0  0.0  0.0  0.0  0.0  0.0  0.0  ...   0.0   \n",
      "67688  0.0  0.0          0.0  0.0  0.0  0.0  0.0  0.0  0.0  0.0  ...   0.0   \n",
      "44407  0.0  0.0          0.0  0.0  0.0  0.0  0.0  0.0  0.0  0.0  ...   0.0   \n",
      "36389  0.0  0.0          0.0  0.0  0.0  0.0  0.0  0.0  0.0  0.0  ...   0.0   \n",
      "13468  0.0  0.0          0.0  0.0  0.0  0.0  0.0  0.0  0.0  0.0  ...   0.0   \n",
      "30407  0.0  0.0          0.0  0.0  0.0  0.0  0.0  0.0  0.0  0.0  ...   0.0   \n",
      "\n",
      "       years       yes  yesterday   yo  youre  youtu  youtube  youtubecom  \\\n",
      "21679    0.0  0.000000        0.0  0.0    0.0    0.0      0.0         0.0   \n",
      "39295    0.0  0.000000        0.0  0.0    0.0    0.0      0.0         0.0   \n",
      "32082    0.0  0.000000        0.0  0.0    0.0    0.0      0.0         0.0   \n",
      "9669     0.0  0.000000        0.0  0.0    0.0    0.0      0.0         0.0   \n",
      "73940    0.0  0.000000        0.0  0.0    0.0    0.0      0.0         0.0   \n",
      "370      0.0  0.000000        0.0  0.0    0.0    0.0      0.0         0.0   \n",
      "39228    0.0  0.000000        0.0  0.0    0.0    0.0      0.0         0.0   \n",
      "2204     0.0  0.000000        0.0  0.0    0.0    0.0      0.0         0.0   \n",
      "51061    0.0  0.000000        0.0  0.0    0.0    0.0      0.0         0.0   \n",
      "9087     0.0  0.000000        0.0  0.0    0.0    0.0      0.0         0.0   \n",
      "57021    0.0  0.000000        0.0  0.0    0.0    0.0      0.0         0.0   \n",
      "49679    0.0  0.000000        0.0  0.0    0.0    0.0      0.0         0.0   \n",
      "60189    0.0  0.000000        0.0  0.0    0.0    0.0      0.0         0.0   \n",
      "16443    0.0  0.000000        0.0  0.0    0.0    0.0      0.0         0.0   \n",
      "30118    0.0  0.000000        0.0  0.0    0.0    0.0      0.0         0.0   \n",
      "16862    0.0  0.000000        0.0  0.0    0.0    0.0      0.0         0.0   \n",
      "18666    0.0  0.000000        0.0  0.0    0.0    0.0      0.0         0.0   \n",
      "35279    0.0  0.000000        0.0  0.0    0.0    0.0      0.0         0.0   \n",
      "10668    0.0  0.000000        0.0  0.0    0.0    0.0      0.0         0.0   \n",
      "51802    0.0  0.000000        0.0  0.0    0.0    0.0      0.0         0.0   \n",
      "27586    0.0  0.000000        0.0  0.0    0.0    0.0      0.0         0.0   \n",
      "17659    0.0  0.000000        0.0  0.0    0.0    0.0      0.0         0.0   \n",
      "4816     0.0  0.000000        0.0  0.0    0.0    0.0      0.0         0.0   \n",
      "9015     0.0  0.000000        0.0  0.0    0.0    0.0      0.0         0.0   \n",
      "11066    0.0  0.440688        0.0  0.0    0.0    0.0      0.0         0.0   \n",
      "67688    0.0  0.000000        0.0  0.0    0.0    0.0      0.0         0.0   \n",
      "44407    0.0  0.000000        0.0  0.0    0.0    0.0      0.0         0.0   \n",
      "36389    0.0  0.000000        0.0  0.0    0.0    0.0      0.0         0.0   \n",
      "13468    0.0  0.000000        0.0  0.0    0.0    0.0      0.0         0.0   \n",
      "30407    0.0  0.000000        0.0  0.0    0.0    0.0      0.0         0.0   \n",
      "\n",
      "       zero  \n",
      "21679   0.0  \n",
      "39295   0.0  \n",
      "32082   0.0  \n",
      "9669    0.0  \n",
      "73940   0.0  \n",
      "370     0.0  \n",
      "39228   0.0  \n",
      "2204    0.0  \n",
      "51061   0.0  \n",
      "9087    0.0  \n",
      "57021   0.0  \n",
      "49679   0.0  \n",
      "60189   0.0  \n",
      "16443   0.0  \n",
      "30118   0.0  \n",
      "16862   0.0  \n",
      "18666   0.0  \n",
      "35279   0.0  \n",
      "10668   0.0  \n",
      "51802   0.0  \n",
      "27586   0.0  \n",
      "17659   0.0  \n",
      "4816    0.0  \n",
      "9015    0.0  \n",
      "11066   0.0  \n",
      "67688   0.0  \n",
      "44407   0.0  \n",
      "36389   0.0  \n",
      "13468   0.0  \n",
      "30407   0.0  \n",
      "\n",
      "[30 rows x 1000 columns]\n"
     ]
    }
   ],
   "source": [
    "import pandas as pd\n",
    "\n",
    "df_tfidf = pd.DataFrame(\n",
    "    X.toarray(),\n",
    "    columns=vectorizer.get_feature_names_out()\n",
    ")\n",
    "print(df_tfidf.sample(30))\n"
   ]
  },
  {
   "cell_type": "code",
   "execution_count": 159,
   "id": "13f780c5-7be4-41eb-9d20-2f375f8a928f",
   "metadata": {},
   "outputs": [],
   "source": [
    "from sklearn.preprocessing import LabelEncoder\n",
    "encoder = LabelEncoder()"
   ]
  },
  {
   "cell_type": "code",
   "execution_count": 183,
   "id": "ce2fee18-7235-40f5-a2e4-1fd545e16972",
   "metadata": {},
   "outputs": [],
   "source": [
    "target = encoder.fit_transform(y)"
   ]
  },
  {
   "cell_type": "code",
   "execution_count": 190,
   "id": "84d6ae7f-f5af-4781-bc62-be430bf72d13",
   "metadata": {},
   "outputs": [
    {
     "data": {
      "text/plain": [
       "Positive\n",
       "Negative      22358\n",
       "Positive      20654\n",
       "Neutral       18108\n",
       "Irrelevant    12875\n",
       "Name: count, dtype: int64"
      ]
     },
     "execution_count": 190,
     "metadata": {},
     "output_type": "execute_result"
    }
   ],
   "source": [
    "y.value_counts()"
   ]
  },
  {
   "cell_type": "code",
   "execution_count": 192,
   "id": "91159b92-3de9-41a8-9a13-52d8f728de61",
   "metadata": {},
   "outputs": [],
   "source": [
    "y_encoded = y.map({\n",
    "    \"Negative\":0,\n",
    "    \"Positive\":1,\n",
    "    \"Neutral\":2,\n",
    "    \"Irrelevant\":3\n",
    "})"
   ]
  },
  {
   "cell_type": "code",
   "execution_count": 267,
   "id": "73933267-6eb2-40a6-8ed5-2b911bcccb6b",
   "metadata": {},
   "outputs": [],
   "source": [
    "from sklearn.model_selection import train_test_split"
   ]
  },
  {
   "cell_type": "code",
   "execution_count": 201,
   "id": "d4a654ed-0096-4017-9407-0acb1ec002af",
   "metadata": {},
   "outputs": [],
   "source": [
    "X_train,X_test,y_train,y_test = train_test_split(X,y_encoded,test_size=0.2,stratify=y)"
   ]
  },
  {
   "cell_type": "code",
   "execution_count": 203,
   "id": "8fd0bdc8-411b-459b-b59f-6299ef1d115d",
   "metadata": {},
   "outputs": [],
   "source": [
    "from sklearn.svm import SVC"
   ]
  },
  {
   "cell_type": "code",
   "execution_count": 204,
   "id": "42545d59-a726-485e-8f8c-844b201d5936",
   "metadata": {},
   "outputs": [],
   "source": [
    "model = SVC(\n",
    "    C=1.0,\n",
    "    kernel='rbf',\n",
    "    gamma='scale'\n",
    ")"
   ]
  },
  {
   "cell_type": "code",
   "execution_count": 205,
   "id": "034b1fe3-160a-4d12-aa39-268108a3b487",
   "metadata": {},
   "outputs": [
    {
     "data": {
      "text/html": [
       "<style>#sk-container-id-1 {\n",
       "  /* Definition of color scheme common for light and dark mode */\n",
       "  --sklearn-color-text: #000;\n",
       "  --sklearn-color-text-muted: #666;\n",
       "  --sklearn-color-line: gray;\n",
       "  /* Definition of color scheme for unfitted estimators */\n",
       "  --sklearn-color-unfitted-level-0: #fff5e6;\n",
       "  --sklearn-color-unfitted-level-1: #f6e4d2;\n",
       "  --sklearn-color-unfitted-level-2: #ffe0b3;\n",
       "  --sklearn-color-unfitted-level-3: chocolate;\n",
       "  /* Definition of color scheme for fitted estimators */\n",
       "  --sklearn-color-fitted-level-0: #f0f8ff;\n",
       "  --sklearn-color-fitted-level-1: #d4ebff;\n",
       "  --sklearn-color-fitted-level-2: #b3dbfd;\n",
       "  --sklearn-color-fitted-level-3: cornflowerblue;\n",
       "\n",
       "  /* Specific color for light theme */\n",
       "  --sklearn-color-text-on-default-background: var(--sg-text-color, var(--theme-code-foreground, var(--jp-content-font-color1, black)));\n",
       "  --sklearn-color-background: var(--sg-background-color, var(--theme-background, var(--jp-layout-color0, white)));\n",
       "  --sklearn-color-border-box: var(--sg-text-color, var(--theme-code-foreground, var(--jp-content-font-color1, black)));\n",
       "  --sklearn-color-icon: #696969;\n",
       "\n",
       "  @media (prefers-color-scheme: dark) {\n",
       "    /* Redefinition of color scheme for dark theme */\n",
       "    --sklearn-color-text-on-default-background: var(--sg-text-color, var(--theme-code-foreground, var(--jp-content-font-color1, white)));\n",
       "    --sklearn-color-background: var(--sg-background-color, var(--theme-background, var(--jp-layout-color0, #111)));\n",
       "    --sklearn-color-border-box: var(--sg-text-color, var(--theme-code-foreground, var(--jp-content-font-color1, white)));\n",
       "    --sklearn-color-icon: #878787;\n",
       "  }\n",
       "}\n",
       "\n",
       "#sk-container-id-1 {\n",
       "  color: var(--sklearn-color-text);\n",
       "}\n",
       "\n",
       "#sk-container-id-1 pre {\n",
       "  padding: 0;\n",
       "}\n",
       "\n",
       "#sk-container-id-1 input.sk-hidden--visually {\n",
       "  border: 0;\n",
       "  clip: rect(1px 1px 1px 1px);\n",
       "  clip: rect(1px, 1px, 1px, 1px);\n",
       "  height: 1px;\n",
       "  margin: -1px;\n",
       "  overflow: hidden;\n",
       "  padding: 0;\n",
       "  position: absolute;\n",
       "  width: 1px;\n",
       "}\n",
       "\n",
       "#sk-container-id-1 div.sk-dashed-wrapped {\n",
       "  border: 1px dashed var(--sklearn-color-line);\n",
       "  margin: 0 0.4em 0.5em 0.4em;\n",
       "  box-sizing: border-box;\n",
       "  padding-bottom: 0.4em;\n",
       "  background-color: var(--sklearn-color-background);\n",
       "}\n",
       "\n",
       "#sk-container-id-1 div.sk-container {\n",
       "  /* jupyter's `normalize.less` sets `[hidden] { display: none; }`\n",
       "     but bootstrap.min.css set `[hidden] { display: none !important; }`\n",
       "     so we also need the `!important` here to be able to override the\n",
       "     default hidden behavior on the sphinx rendered scikit-learn.org.\n",
       "     See: https://github.com/scikit-learn/scikit-learn/issues/21755 */\n",
       "  display: inline-block !important;\n",
       "  position: relative;\n",
       "}\n",
       "\n",
       "#sk-container-id-1 div.sk-text-repr-fallback {\n",
       "  display: none;\n",
       "}\n",
       "\n",
       "div.sk-parallel-item,\n",
       "div.sk-serial,\n",
       "div.sk-item {\n",
       "  /* draw centered vertical line to link estimators */\n",
       "  background-image: linear-gradient(var(--sklearn-color-text-on-default-background), var(--sklearn-color-text-on-default-background));\n",
       "  background-size: 2px 100%;\n",
       "  background-repeat: no-repeat;\n",
       "  background-position: center center;\n",
       "}\n",
       "\n",
       "/* Parallel-specific style estimator block */\n",
       "\n",
       "#sk-container-id-1 div.sk-parallel-item::after {\n",
       "  content: \"\";\n",
       "  width: 100%;\n",
       "  border-bottom: 2px solid var(--sklearn-color-text-on-default-background);\n",
       "  flex-grow: 1;\n",
       "}\n",
       "\n",
       "#sk-container-id-1 div.sk-parallel {\n",
       "  display: flex;\n",
       "  align-items: stretch;\n",
       "  justify-content: center;\n",
       "  background-color: var(--sklearn-color-background);\n",
       "  position: relative;\n",
       "}\n",
       "\n",
       "#sk-container-id-1 div.sk-parallel-item {\n",
       "  display: flex;\n",
       "  flex-direction: column;\n",
       "}\n",
       "\n",
       "#sk-container-id-1 div.sk-parallel-item:first-child::after {\n",
       "  align-self: flex-end;\n",
       "  width: 50%;\n",
       "}\n",
       "\n",
       "#sk-container-id-1 div.sk-parallel-item:last-child::after {\n",
       "  align-self: flex-start;\n",
       "  width: 50%;\n",
       "}\n",
       "\n",
       "#sk-container-id-1 div.sk-parallel-item:only-child::after {\n",
       "  width: 0;\n",
       "}\n",
       "\n",
       "/* Serial-specific style estimator block */\n",
       "\n",
       "#sk-container-id-1 div.sk-serial {\n",
       "  display: flex;\n",
       "  flex-direction: column;\n",
       "  align-items: center;\n",
       "  background-color: var(--sklearn-color-background);\n",
       "  padding-right: 1em;\n",
       "  padding-left: 1em;\n",
       "}\n",
       "\n",
       "\n",
       "/* Toggleable style: style used for estimator/Pipeline/ColumnTransformer box that is\n",
       "clickable and can be expanded/collapsed.\n",
       "- Pipeline and ColumnTransformer use this feature and define the default style\n",
       "- Estimators will overwrite some part of the style using the `sk-estimator` class\n",
       "*/\n",
       "\n",
       "/* Pipeline and ColumnTransformer style (default) */\n",
       "\n",
       "#sk-container-id-1 div.sk-toggleable {\n",
       "  /* Default theme specific background. It is overwritten whether we have a\n",
       "  specific estimator or a Pipeline/ColumnTransformer */\n",
       "  background-color: var(--sklearn-color-background);\n",
       "}\n",
       "\n",
       "/* Toggleable label */\n",
       "#sk-container-id-1 label.sk-toggleable__label {\n",
       "  cursor: pointer;\n",
       "  display: flex;\n",
       "  width: 100%;\n",
       "  margin-bottom: 0;\n",
       "  padding: 0.5em;\n",
       "  box-sizing: border-box;\n",
       "  text-align: center;\n",
       "  align-items: start;\n",
       "  justify-content: space-between;\n",
       "  gap: 0.5em;\n",
       "}\n",
       "\n",
       "#sk-container-id-1 label.sk-toggleable__label .caption {\n",
       "  font-size: 0.6rem;\n",
       "  font-weight: lighter;\n",
       "  color: var(--sklearn-color-text-muted);\n",
       "}\n",
       "\n",
       "#sk-container-id-1 label.sk-toggleable__label-arrow:before {\n",
       "  /* Arrow on the left of the label */\n",
       "  content: \"▸\";\n",
       "  float: left;\n",
       "  margin-right: 0.25em;\n",
       "  color: var(--sklearn-color-icon);\n",
       "}\n",
       "\n",
       "#sk-container-id-1 label.sk-toggleable__label-arrow:hover:before {\n",
       "  color: var(--sklearn-color-text);\n",
       "}\n",
       "\n",
       "/* Toggleable content - dropdown */\n",
       "\n",
       "#sk-container-id-1 div.sk-toggleable__content {\n",
       "  display: none;\n",
       "  text-align: left;\n",
       "  /* unfitted */\n",
       "  background-color: var(--sklearn-color-unfitted-level-0);\n",
       "}\n",
       "\n",
       "#sk-container-id-1 div.sk-toggleable__content.fitted {\n",
       "  /* fitted */\n",
       "  background-color: var(--sklearn-color-fitted-level-0);\n",
       "}\n",
       "\n",
       "#sk-container-id-1 div.sk-toggleable__content pre {\n",
       "  margin: 0.2em;\n",
       "  border-radius: 0.25em;\n",
       "  color: var(--sklearn-color-text);\n",
       "  /* unfitted */\n",
       "  background-color: var(--sklearn-color-unfitted-level-0);\n",
       "}\n",
       "\n",
       "#sk-container-id-1 div.sk-toggleable__content.fitted pre {\n",
       "  /* unfitted */\n",
       "  background-color: var(--sklearn-color-fitted-level-0);\n",
       "}\n",
       "\n",
       "#sk-container-id-1 input.sk-toggleable__control:checked~div.sk-toggleable__content {\n",
       "  /* Expand drop-down */\n",
       "  display: block;\n",
       "  width: 100%;\n",
       "  overflow: visible;\n",
       "}\n",
       "\n",
       "#sk-container-id-1 input.sk-toggleable__control:checked~label.sk-toggleable__label-arrow:before {\n",
       "  content: \"▾\";\n",
       "}\n",
       "\n",
       "/* Pipeline/ColumnTransformer-specific style */\n",
       "\n",
       "#sk-container-id-1 div.sk-label input.sk-toggleable__control:checked~label.sk-toggleable__label {\n",
       "  color: var(--sklearn-color-text);\n",
       "  background-color: var(--sklearn-color-unfitted-level-2);\n",
       "}\n",
       "\n",
       "#sk-container-id-1 div.sk-label.fitted input.sk-toggleable__control:checked~label.sk-toggleable__label {\n",
       "  background-color: var(--sklearn-color-fitted-level-2);\n",
       "}\n",
       "\n",
       "/* Estimator-specific style */\n",
       "\n",
       "/* Colorize estimator box */\n",
       "#sk-container-id-1 div.sk-estimator input.sk-toggleable__control:checked~label.sk-toggleable__label {\n",
       "  /* unfitted */\n",
       "  background-color: var(--sklearn-color-unfitted-level-2);\n",
       "}\n",
       "\n",
       "#sk-container-id-1 div.sk-estimator.fitted input.sk-toggleable__control:checked~label.sk-toggleable__label {\n",
       "  /* fitted */\n",
       "  background-color: var(--sklearn-color-fitted-level-2);\n",
       "}\n",
       "\n",
       "#sk-container-id-1 div.sk-label label.sk-toggleable__label,\n",
       "#sk-container-id-1 div.sk-label label {\n",
       "  /* The background is the default theme color */\n",
       "  color: var(--sklearn-color-text-on-default-background);\n",
       "}\n",
       "\n",
       "/* On hover, darken the color of the background */\n",
       "#sk-container-id-1 div.sk-label:hover label.sk-toggleable__label {\n",
       "  color: var(--sklearn-color-text);\n",
       "  background-color: var(--sklearn-color-unfitted-level-2);\n",
       "}\n",
       "\n",
       "/* Label box, darken color on hover, fitted */\n",
       "#sk-container-id-1 div.sk-label.fitted:hover label.sk-toggleable__label.fitted {\n",
       "  color: var(--sklearn-color-text);\n",
       "  background-color: var(--sklearn-color-fitted-level-2);\n",
       "}\n",
       "\n",
       "/* Estimator label */\n",
       "\n",
       "#sk-container-id-1 div.sk-label label {\n",
       "  font-family: monospace;\n",
       "  font-weight: bold;\n",
       "  display: inline-block;\n",
       "  line-height: 1.2em;\n",
       "}\n",
       "\n",
       "#sk-container-id-1 div.sk-label-container {\n",
       "  text-align: center;\n",
       "}\n",
       "\n",
       "/* Estimator-specific */\n",
       "#sk-container-id-1 div.sk-estimator {\n",
       "  font-family: monospace;\n",
       "  border: 1px dotted var(--sklearn-color-border-box);\n",
       "  border-radius: 0.25em;\n",
       "  box-sizing: border-box;\n",
       "  margin-bottom: 0.5em;\n",
       "  /* unfitted */\n",
       "  background-color: var(--sklearn-color-unfitted-level-0);\n",
       "}\n",
       "\n",
       "#sk-container-id-1 div.sk-estimator.fitted {\n",
       "  /* fitted */\n",
       "  background-color: var(--sklearn-color-fitted-level-0);\n",
       "}\n",
       "\n",
       "/* on hover */\n",
       "#sk-container-id-1 div.sk-estimator:hover {\n",
       "  /* unfitted */\n",
       "  background-color: var(--sklearn-color-unfitted-level-2);\n",
       "}\n",
       "\n",
       "#sk-container-id-1 div.sk-estimator.fitted:hover {\n",
       "  /* fitted */\n",
       "  background-color: var(--sklearn-color-fitted-level-2);\n",
       "}\n",
       "\n",
       "/* Specification for estimator info (e.g. \"i\" and \"?\") */\n",
       "\n",
       "/* Common style for \"i\" and \"?\" */\n",
       "\n",
       ".sk-estimator-doc-link,\n",
       "a:link.sk-estimator-doc-link,\n",
       "a:visited.sk-estimator-doc-link {\n",
       "  float: right;\n",
       "  font-size: smaller;\n",
       "  line-height: 1em;\n",
       "  font-family: monospace;\n",
       "  background-color: var(--sklearn-color-background);\n",
       "  border-radius: 1em;\n",
       "  height: 1em;\n",
       "  width: 1em;\n",
       "  text-decoration: none !important;\n",
       "  margin-left: 0.5em;\n",
       "  text-align: center;\n",
       "  /* unfitted */\n",
       "  border: var(--sklearn-color-unfitted-level-1) 1pt solid;\n",
       "  color: var(--sklearn-color-unfitted-level-1);\n",
       "}\n",
       "\n",
       ".sk-estimator-doc-link.fitted,\n",
       "a:link.sk-estimator-doc-link.fitted,\n",
       "a:visited.sk-estimator-doc-link.fitted {\n",
       "  /* fitted */\n",
       "  border: var(--sklearn-color-fitted-level-1) 1pt solid;\n",
       "  color: var(--sklearn-color-fitted-level-1);\n",
       "}\n",
       "\n",
       "/* On hover */\n",
       "div.sk-estimator:hover .sk-estimator-doc-link:hover,\n",
       ".sk-estimator-doc-link:hover,\n",
       "div.sk-label-container:hover .sk-estimator-doc-link:hover,\n",
       ".sk-estimator-doc-link:hover {\n",
       "  /* unfitted */\n",
       "  background-color: var(--sklearn-color-unfitted-level-3);\n",
       "  color: var(--sklearn-color-background);\n",
       "  text-decoration: none;\n",
       "}\n",
       "\n",
       "div.sk-estimator.fitted:hover .sk-estimator-doc-link.fitted:hover,\n",
       ".sk-estimator-doc-link.fitted:hover,\n",
       "div.sk-label-container:hover .sk-estimator-doc-link.fitted:hover,\n",
       ".sk-estimator-doc-link.fitted:hover {\n",
       "  /* fitted */\n",
       "  background-color: var(--sklearn-color-fitted-level-3);\n",
       "  color: var(--sklearn-color-background);\n",
       "  text-decoration: none;\n",
       "}\n",
       "\n",
       "/* Span, style for the box shown on hovering the info icon */\n",
       ".sk-estimator-doc-link span {\n",
       "  display: none;\n",
       "  z-index: 9999;\n",
       "  position: relative;\n",
       "  font-weight: normal;\n",
       "  right: .2ex;\n",
       "  padding: .5ex;\n",
       "  margin: .5ex;\n",
       "  width: min-content;\n",
       "  min-width: 20ex;\n",
       "  max-width: 50ex;\n",
       "  color: var(--sklearn-color-text);\n",
       "  box-shadow: 2pt 2pt 4pt #999;\n",
       "  /* unfitted */\n",
       "  background: var(--sklearn-color-unfitted-level-0);\n",
       "  border: .5pt solid var(--sklearn-color-unfitted-level-3);\n",
       "}\n",
       "\n",
       ".sk-estimator-doc-link.fitted span {\n",
       "  /* fitted */\n",
       "  background: var(--sklearn-color-fitted-level-0);\n",
       "  border: var(--sklearn-color-fitted-level-3);\n",
       "}\n",
       "\n",
       ".sk-estimator-doc-link:hover span {\n",
       "  display: block;\n",
       "}\n",
       "\n",
       "/* \"?\"-specific style due to the `<a>` HTML tag */\n",
       "\n",
       "#sk-container-id-1 a.estimator_doc_link {\n",
       "  float: right;\n",
       "  font-size: 1rem;\n",
       "  line-height: 1em;\n",
       "  font-family: monospace;\n",
       "  background-color: var(--sklearn-color-background);\n",
       "  border-radius: 1rem;\n",
       "  height: 1rem;\n",
       "  width: 1rem;\n",
       "  text-decoration: none;\n",
       "  /* unfitted */\n",
       "  color: var(--sklearn-color-unfitted-level-1);\n",
       "  border: var(--sklearn-color-unfitted-level-1) 1pt solid;\n",
       "}\n",
       "\n",
       "#sk-container-id-1 a.estimator_doc_link.fitted {\n",
       "  /* fitted */\n",
       "  border: var(--sklearn-color-fitted-level-1) 1pt solid;\n",
       "  color: var(--sklearn-color-fitted-level-1);\n",
       "}\n",
       "\n",
       "/* On hover */\n",
       "#sk-container-id-1 a.estimator_doc_link:hover {\n",
       "  /* unfitted */\n",
       "  background-color: var(--sklearn-color-unfitted-level-3);\n",
       "  color: var(--sklearn-color-background);\n",
       "  text-decoration: none;\n",
       "}\n",
       "\n",
       "#sk-container-id-1 a.estimator_doc_link.fitted:hover {\n",
       "  /* fitted */\n",
       "  background-color: var(--sklearn-color-fitted-level-3);\n",
       "}\n",
       "\n",
       ".estimator-table summary {\n",
       "    padding: .5rem;\n",
       "    font-family: monospace;\n",
       "    cursor: pointer;\n",
       "}\n",
       "\n",
       ".estimator-table details[open] {\n",
       "    padding-left: 0.1rem;\n",
       "    padding-right: 0.1rem;\n",
       "    padding-bottom: 0.3rem;\n",
       "}\n",
       "\n",
       ".estimator-table .parameters-table {\n",
       "    margin-left: auto !important;\n",
       "    margin-right: auto !important;\n",
       "}\n",
       "\n",
       ".estimator-table .parameters-table tr:nth-child(odd) {\n",
       "    background-color: #fff;\n",
       "}\n",
       "\n",
       ".estimator-table .parameters-table tr:nth-child(even) {\n",
       "    background-color: #f6f6f6;\n",
       "}\n",
       "\n",
       ".estimator-table .parameters-table tr:hover {\n",
       "    background-color: #e0e0e0;\n",
       "}\n",
       "\n",
       ".estimator-table table td {\n",
       "    border: 1px solid rgba(106, 105, 104, 0.232);\n",
       "}\n",
       "\n",
       ".user-set td {\n",
       "    color:rgb(255, 94, 0);\n",
       "    text-align: left;\n",
       "}\n",
       "\n",
       ".user-set td.value pre {\n",
       "    color:rgb(255, 94, 0) !important;\n",
       "    background-color: transparent !important;\n",
       "}\n",
       "\n",
       ".default td {\n",
       "    color: black;\n",
       "    text-align: left;\n",
       "}\n",
       "\n",
       ".user-set td i,\n",
       ".default td i {\n",
       "    color: black;\n",
       "}\n",
       "\n",
       ".copy-paste-icon {\n",
       "    background-image: url(data:image/svg+xml;base64,PHN2ZyB4bWxucz0iaHR0cDovL3d3dy53My5vcmcvMjAwMC9zdmciIHZpZXdCb3g9IjAgMCA0NDggNTEyIj48IS0tIUZvbnQgQXdlc29tZSBGcmVlIDYuNy4yIGJ5IEBmb250YXdlc29tZSAtIGh0dHBzOi8vZm9udGF3ZXNvbWUuY29tIExpY2Vuc2UgLSBodHRwczovL2ZvbnRhd2Vzb21lLmNvbS9saWNlbnNlL2ZyZWUgQ29weXJpZ2h0IDIwMjUgRm9udGljb25zLCBJbmMuLS0+PHBhdGggZD0iTTIwOCAwTDMzMi4xIDBjMTIuNyAwIDI0LjkgNS4xIDMzLjkgMTQuMWw2Ny45IDY3LjljOSA5IDE0LjEgMjEuMiAxNC4xIDMzLjlMNDQ4IDMzNmMwIDI2LjUtMjEuNSA0OC00OCA0OGwtMTkyIDBjLTI2LjUgMC00OC0yMS41LTQ4LTQ4bDAtMjg4YzAtMjYuNSAyMS41LTQ4IDQ4LTQ4ek00OCAxMjhsODAgMCAwIDY0LTY0IDAgMCAyNTYgMTkyIDAgMC0zMiA2NCAwIDAgNDhjMCAyNi41LTIxLjUgNDgtNDggNDhMNDggNTEyYy0yNi41IDAtNDgtMjEuNS00OC00OEwwIDE3NmMwLTI2LjUgMjEuNS00OCA0OC00OHoiLz48L3N2Zz4=);\n",
       "    background-repeat: no-repeat;\n",
       "    background-size: 14px 14px;\n",
       "    background-position: 0;\n",
       "    display: inline-block;\n",
       "    width: 14px;\n",
       "    height: 14px;\n",
       "    cursor: pointer;\n",
       "}\n",
       "</style><body><div id=\"sk-container-id-1\" class=\"sk-top-container\"><div class=\"sk-text-repr-fallback\"><pre>SVC()</pre><b>In a Jupyter environment, please rerun this cell to show the HTML representation or trust the notebook. <br />On GitHub, the HTML representation is unable to render, please try loading this page with nbviewer.org.</b></div><div class=\"sk-container\" hidden><div class=\"sk-item\"><div class=\"sk-estimator fitted sk-toggleable\"><input class=\"sk-toggleable__control sk-hidden--visually\" id=\"sk-estimator-id-1\" type=\"checkbox\" checked><label for=\"sk-estimator-id-1\" class=\"sk-toggleable__label fitted sk-toggleable__label-arrow\"><div><div>SVC</div></div><div><a class=\"sk-estimator-doc-link fitted\" rel=\"noreferrer\" target=\"_blank\" href=\"https://scikit-learn.org/1.7/modules/generated/sklearn.svm.SVC.html\">?<span>Documentation for SVC</span></a><span class=\"sk-estimator-doc-link fitted\">i<span>Fitted</span></span></div></label><div class=\"sk-toggleable__content fitted\" data-param-prefix=\"\">\n",
       "        <div class=\"estimator-table\">\n",
       "            <details>\n",
       "                <summary>Parameters</summary>\n",
       "                <table class=\"parameters-table\">\n",
       "                  <tbody>\n",
       "                    \n",
       "        <tr class=\"default\">\n",
       "            <td><i class=\"copy-paste-icon\"\n",
       "                 onclick=\"copyToClipboard('C',\n",
       "                          this.parentElement.nextElementSibling)\"\n",
       "            ></i></td>\n",
       "            <td class=\"param\">C&nbsp;</td>\n",
       "            <td class=\"value\">1.0</td>\n",
       "        </tr>\n",
       "    \n",
       "\n",
       "        <tr class=\"default\">\n",
       "            <td><i class=\"copy-paste-icon\"\n",
       "                 onclick=\"copyToClipboard('kernel',\n",
       "                          this.parentElement.nextElementSibling)\"\n",
       "            ></i></td>\n",
       "            <td class=\"param\">kernel&nbsp;</td>\n",
       "            <td class=\"value\">&#x27;rbf&#x27;</td>\n",
       "        </tr>\n",
       "    \n",
       "\n",
       "        <tr class=\"default\">\n",
       "            <td><i class=\"copy-paste-icon\"\n",
       "                 onclick=\"copyToClipboard('degree',\n",
       "                          this.parentElement.nextElementSibling)\"\n",
       "            ></i></td>\n",
       "            <td class=\"param\">degree&nbsp;</td>\n",
       "            <td class=\"value\">3</td>\n",
       "        </tr>\n",
       "    \n",
       "\n",
       "        <tr class=\"default\">\n",
       "            <td><i class=\"copy-paste-icon\"\n",
       "                 onclick=\"copyToClipboard('gamma',\n",
       "                          this.parentElement.nextElementSibling)\"\n",
       "            ></i></td>\n",
       "            <td class=\"param\">gamma&nbsp;</td>\n",
       "            <td class=\"value\">&#x27;scale&#x27;</td>\n",
       "        </tr>\n",
       "    \n",
       "\n",
       "        <tr class=\"default\">\n",
       "            <td><i class=\"copy-paste-icon\"\n",
       "                 onclick=\"copyToClipboard('coef0',\n",
       "                          this.parentElement.nextElementSibling)\"\n",
       "            ></i></td>\n",
       "            <td class=\"param\">coef0&nbsp;</td>\n",
       "            <td class=\"value\">0.0</td>\n",
       "        </tr>\n",
       "    \n",
       "\n",
       "        <tr class=\"default\">\n",
       "            <td><i class=\"copy-paste-icon\"\n",
       "                 onclick=\"copyToClipboard('shrinking',\n",
       "                          this.parentElement.nextElementSibling)\"\n",
       "            ></i></td>\n",
       "            <td class=\"param\">shrinking&nbsp;</td>\n",
       "            <td class=\"value\">True</td>\n",
       "        </tr>\n",
       "    \n",
       "\n",
       "        <tr class=\"default\">\n",
       "            <td><i class=\"copy-paste-icon\"\n",
       "                 onclick=\"copyToClipboard('probability',\n",
       "                          this.parentElement.nextElementSibling)\"\n",
       "            ></i></td>\n",
       "            <td class=\"param\">probability&nbsp;</td>\n",
       "            <td class=\"value\">False</td>\n",
       "        </tr>\n",
       "    \n",
       "\n",
       "        <tr class=\"default\">\n",
       "            <td><i class=\"copy-paste-icon\"\n",
       "                 onclick=\"copyToClipboard('tol',\n",
       "                          this.parentElement.nextElementSibling)\"\n",
       "            ></i></td>\n",
       "            <td class=\"param\">tol&nbsp;</td>\n",
       "            <td class=\"value\">0.001</td>\n",
       "        </tr>\n",
       "    \n",
       "\n",
       "        <tr class=\"default\">\n",
       "            <td><i class=\"copy-paste-icon\"\n",
       "                 onclick=\"copyToClipboard('cache_size',\n",
       "                          this.parentElement.nextElementSibling)\"\n",
       "            ></i></td>\n",
       "            <td class=\"param\">cache_size&nbsp;</td>\n",
       "            <td class=\"value\">200</td>\n",
       "        </tr>\n",
       "    \n",
       "\n",
       "        <tr class=\"default\">\n",
       "            <td><i class=\"copy-paste-icon\"\n",
       "                 onclick=\"copyToClipboard('class_weight',\n",
       "                          this.parentElement.nextElementSibling)\"\n",
       "            ></i></td>\n",
       "            <td class=\"param\">class_weight&nbsp;</td>\n",
       "            <td class=\"value\">None</td>\n",
       "        </tr>\n",
       "    \n",
       "\n",
       "        <tr class=\"default\">\n",
       "            <td><i class=\"copy-paste-icon\"\n",
       "                 onclick=\"copyToClipboard('verbose',\n",
       "                          this.parentElement.nextElementSibling)\"\n",
       "            ></i></td>\n",
       "            <td class=\"param\">verbose&nbsp;</td>\n",
       "            <td class=\"value\">False</td>\n",
       "        </tr>\n",
       "    \n",
       "\n",
       "        <tr class=\"default\">\n",
       "            <td><i class=\"copy-paste-icon\"\n",
       "                 onclick=\"copyToClipboard('max_iter',\n",
       "                          this.parentElement.nextElementSibling)\"\n",
       "            ></i></td>\n",
       "            <td class=\"param\">max_iter&nbsp;</td>\n",
       "            <td class=\"value\">-1</td>\n",
       "        </tr>\n",
       "    \n",
       "\n",
       "        <tr class=\"default\">\n",
       "            <td><i class=\"copy-paste-icon\"\n",
       "                 onclick=\"copyToClipboard('decision_function_shape',\n",
       "                          this.parentElement.nextElementSibling)\"\n",
       "            ></i></td>\n",
       "            <td class=\"param\">decision_function_shape&nbsp;</td>\n",
       "            <td class=\"value\">&#x27;ovr&#x27;</td>\n",
       "        </tr>\n",
       "    \n",
       "\n",
       "        <tr class=\"default\">\n",
       "            <td><i class=\"copy-paste-icon\"\n",
       "                 onclick=\"copyToClipboard('break_ties',\n",
       "                          this.parentElement.nextElementSibling)\"\n",
       "            ></i></td>\n",
       "            <td class=\"param\">break_ties&nbsp;</td>\n",
       "            <td class=\"value\">False</td>\n",
       "        </tr>\n",
       "    \n",
       "\n",
       "        <tr class=\"default\">\n",
       "            <td><i class=\"copy-paste-icon\"\n",
       "                 onclick=\"copyToClipboard('random_state',\n",
       "                          this.parentElement.nextElementSibling)\"\n",
       "            ></i></td>\n",
       "            <td class=\"param\">random_state&nbsp;</td>\n",
       "            <td class=\"value\">None</td>\n",
       "        </tr>\n",
       "    \n",
       "                  </tbody>\n",
       "                </table>\n",
       "            </details>\n",
       "        </div>\n",
       "    </div></div></div></div></div><script>function copyToClipboard(text, element) {\n",
       "    // Get the parameter prefix from the closest toggleable content\n",
       "    const toggleableContent = element.closest('.sk-toggleable__content');\n",
       "    const paramPrefix = toggleableContent ? toggleableContent.dataset.paramPrefix : '';\n",
       "    const fullParamName = paramPrefix ? `${paramPrefix}${text}` : text;\n",
       "\n",
       "    const originalStyle = element.style;\n",
       "    const computedStyle = window.getComputedStyle(element);\n",
       "    const originalWidth = computedStyle.width;\n",
       "    const originalHTML = element.innerHTML.replace('Copied!', '');\n",
       "\n",
       "    navigator.clipboard.writeText(fullParamName)\n",
       "        .then(() => {\n",
       "            element.style.width = originalWidth;\n",
       "            element.style.color = 'green';\n",
       "            element.innerHTML = \"Copied!\";\n",
       "\n",
       "            setTimeout(() => {\n",
       "                element.innerHTML = originalHTML;\n",
       "                element.style = originalStyle;\n",
       "            }, 2000);\n",
       "        })\n",
       "        .catch(err => {\n",
       "            console.error('Failed to copy:', err);\n",
       "            element.style.color = 'red';\n",
       "            element.innerHTML = \"Failed!\";\n",
       "            setTimeout(() => {\n",
       "                element.innerHTML = originalHTML;\n",
       "                element.style = originalStyle;\n",
       "            }, 2000);\n",
       "        });\n",
       "    return false;\n",
       "}\n",
       "\n",
       "document.querySelectorAll('.fa-regular.fa-copy').forEach(function(element) {\n",
       "    const toggleableContent = element.closest('.sk-toggleable__content');\n",
       "    const paramPrefix = toggleableContent ? toggleableContent.dataset.paramPrefix : '';\n",
       "    const paramName = element.parentElement.nextElementSibling.textContent.trim();\n",
       "    const fullParamName = paramPrefix ? `${paramPrefix}${paramName}` : paramName;\n",
       "\n",
       "    element.setAttribute('title', fullParamName);\n",
       "});\n",
       "</script></body>"
      ],
      "text/plain": [
       "SVC()"
      ]
     },
     "execution_count": 205,
     "metadata": {},
     "output_type": "execute_result"
    }
   ],
   "source": [
    "model.fit(X_train,y_train)"
   ]
  },
  {
   "cell_type": "code",
   "execution_count": 206,
   "id": "185d9fed-ec3a-43e2-a86b-b8cf12ea1abc",
   "metadata": {},
   "outputs": [],
   "source": [
    "y_pred = model.predict(X_test)"
   ]
  },
  {
   "cell_type": "code",
   "execution_count": 214,
   "id": "716dd7ba-c245-480d-9f53-72e600c99eb7",
   "metadata": {},
   "outputs": [
    {
     "name": "stdout",
     "output_type": "stream",
     "text": [
      "              precision    recall  f1-score   support\n",
      "\n",
      "           0       0.85      0.85      0.85      4472\n",
      "           1       0.74      0.88      0.80      4131\n",
      "           2       0.85      0.78      0.82      3621\n",
      "           3       0.86      0.70      0.77      2575\n",
      "\n",
      "    accuracy                           0.81     14799\n",
      "   macro avg       0.82      0.80      0.81     14799\n",
      "weighted avg       0.82      0.81      0.81     14799\n",
      "\n"
     ]
    }
   ],
   "source": [
    "from sklearn.metrics import classification_report,confusion_matrix,r2_score,mean_absolute_error\n",
    "print(classification_report(y_test,y_pred))"
   ]
  },
  {
   "cell_type": "code",
   "execution_count": 208,
   "id": "b29793fd-9d3a-4ffb-99bc-b48aeb83b128",
   "metadata": {},
   "outputs": [
    {
     "data": {
      "text/plain": [
       "array([3, 0, 2, ..., 2, 1, 2], shape=(14799,))"
      ]
     },
     "execution_count": 208,
     "metadata": {},
     "output_type": "execute_result"
    }
   ],
   "source": [
    "y_pred"
   ]
  },
  {
   "cell_type": "code",
   "execution_count": 209,
   "id": "84ad0caf-3aeb-41eb-bd5f-2292c1385548",
   "metadata": {},
   "outputs": [],
   "source": [
    "import seaborn as sns"
   ]
  },
  {
   "cell_type": "code",
   "execution_count": 216,
   "id": "0d8220e0-b92b-4f23-9aab-5edda8d4368a",
   "metadata": {},
   "outputs": [
    {
     "data": {
      "text/plain": [
       "<Axes: >"
      ]
     },
     "execution_count": 216,
     "metadata": {},
     "output_type": "execute_result"
    },
    {
     "data": {
      "image/png": "[encoded data removed]",
      "text/plain": [
       "<Figure size 640x480 with 2 Axes>"
      ]
     },
     "metadata": {},
     "output_type": "display_data"
    }
   ],
   "source": [
    "sns.heatmap(confusion_matrix(y_pred,y_test), annot=True, cmap=\"plasma\")"
   ]
  },
  {
   "cell_type": "code",
   "execution_count": 217,
   "id": "68e62859-e54e-4027-80b2-78c5c4d7a9f6",
   "metadata": {},
   "outputs": [
    {
     "name": "stdout",
     "output_type": "stream",
     "text": [
      "[[3807  244  256  197]\n",
      " [ 402 3617  427  423]\n",
      " [ 171  171 2840  164]\n",
      " [  92   99   98 1791]]\n"
     ]
    }
   ],
   "source": [
    "print(confusion_matrix(y_pred,y_test))"
   ]
  },
  {
   "cell_type": "markdown",
   "id": "264a47e6-8ddc-4f68-9599-4bf140d2cf76",
   "metadata": {},
   "source": [
    "**A different validation data from a new csv file for further analysis**"
   ]
  },
  {
   "cell_type": "code",
   "execution_count": 268,
   "id": "6fb06dbf-60eb-4090-98e2-0453b7118cfa",
   "metadata": {},
   "outputs": [],
   "source": [
    "test_validation = pd.read_csv(\"twitter_validation.csv\")"
   ]
  },
  {
   "cell_type": "code",
   "execution_count": 269,
   "id": "86fc7cd4-b4b7-4984-b6f0-9b303ecbfb86",
   "metadata": {},
   "outputs": [],
   "source": [
    "test_validation[\"text\"] = test_validation[\"I mentioned on Facebook that I was struggling for motivation to go for a run the other day, which has been translated by Tom’s great auntie as ‘Hayley can’t get out of bed’ and told to his grandma, who now thinks I’m a lazy, terrible person 🤣\"].str.strip().str.lower().str.replace(r\"[^\\w\\s]\", \"\", regex=True)"
   ]
  },
  {
   "cell_type": "code",
   "execution_count": 270,
   "id": "a4cbf6e5-f037-4a9a-92ae-4916887cf421",
   "metadata": {},
   "outputs": [],
   "source": [
    "df_test = test_validation[[\"Irrelevant\",\"text\"]]"
   ]
  },
  {
   "cell_type": "code",
   "execution_count": 271,
   "id": "25c67937-bc6a-4369-a907-cc20a457ded1",
   "metadata": {},
   "outputs": [
    {
     "data": {
      "text/html": [
       "<div>\n",
       "<style scoped>\n",
       "    .dataframe tbody tr th:only-of-type {\n",
       "        vertical-align: middle;\n",
       "    }\n",
       "\n",
       "    .dataframe tbody tr th {\n",
       "        vertical-align: top;\n",
       "    }\n",
       "\n",
       "    .dataframe thead th {\n",
       "        text-align: right;\n",
       "    }\n",
       "</style>\n",
       "<table border=\"1\" class=\"dataframe\">\n",
       "  <thead>\n",
       "    <tr style=\"text-align: right;\">\n",
       "      <th></th>\n",
       "      <th>Irrelevant</th>\n",
       "      <th>text</th>\n",
       "    </tr>\n",
       "  </thead>\n",
       "  <tbody>\n",
       "    <tr>\n",
       "      <th>227</th>\n",
       "      <td>Positive</td>\n",
       "      <td>good job blizzard_ent  blizzlatam warcraft pic...</td>\n",
       "    </tr>\n",
       "    <tr>\n",
       "      <th>790</th>\n",
       "      <td>Irrelevant</td>\n",
       "      <td>stop acting like your not educated stop with t...</td>\n",
       "    </tr>\n",
       "    <tr>\n",
       "      <th>562</th>\n",
       "      <td>Negative</td>\n",
       "      <td>this doesnt even make sense</td>\n",
       "    </tr>\n",
       "    <tr>\n",
       "      <th>195</th>\n",
       "      <td>Negative</td>\n",
       "      <td>hey verizon we have tried contacting you in ev...</td>\n",
       "    </tr>\n",
       "    <tr>\n",
       "      <th>787</th>\n",
       "      <td>Positive</td>\n",
       "      <td>playapex  respawn  hey respawnjust now played ...</td>\n",
       "    </tr>\n",
       "    <tr>\n",
       "      <th>412</th>\n",
       "      <td>Positive</td>\n",
       "      <td>hated packing this one but at least it sold an...</td>\n",
       "    </tr>\n",
       "    <tr>\n",
       "      <th>868</th>\n",
       "      <td>Positive</td>\n",
       "      <td>red dead redemption 2 leaves xbox game pass on...</td>\n",
       "    </tr>\n",
       "    <tr>\n",
       "      <th>272</th>\n",
       "      <td>Irrelevant</td>\n",
       "      <td>this pic is so cute why</td>\n",
       "    </tr>\n",
       "    <tr>\n",
       "      <th>155</th>\n",
       "      <td>Neutral</td>\n",
       "      <td>i just earned the 5 daily quests completed ach...</td>\n",
       "    </tr>\n",
       "    <tr>\n",
       "      <th>993</th>\n",
       "      <td>Positive</td>\n",
       "      <td>good on sony as much as i want to see the new ...</td>\n",
       "    </tr>\n",
       "  </tbody>\n",
       "</table>\n",
       "</div>"
      ],
      "text/plain": [
       "     Irrelevant                                               text\n",
       "227    Positive  good job blizzard_ent  blizzlatam warcraft pic...\n",
       "790  Irrelevant  stop acting like your not educated stop with t...\n",
       "562    Negative                        this doesnt even make sense\n",
       "195    Negative  hey verizon we have tried contacting you in ev...\n",
       "787    Positive  playapex  respawn  hey respawnjust now played ...\n",
       "412    Positive  hated packing this one but at least it sold an...\n",
       "868    Positive  red dead redemption 2 leaves xbox game pass on...\n",
       "272  Irrelevant                            this pic is so cute why\n",
       "155     Neutral  i just earned the 5 daily quests completed ach...\n",
       "993    Positive  good on sony as much as i want to see the new ..."
      ]
     },
     "execution_count": 271,
     "metadata": {},
     "output_type": "execute_result"
    }
   ],
   "source": [
    "df_test.sample(10)"
   ]
  },
  {
   "cell_type": "code",
   "execution_count": 272,
   "id": "887cdd2e-e832-4a56-a594-75b2e1d22d01",
   "metadata": {},
   "outputs": [],
   "source": [
    "df_test.dropna(inplace=True)"
   ]
  },
  {
   "cell_type": "code",
   "execution_count": 273,
   "id": "7db4a7f5-f024-4852-a089-5f100fac9372",
   "metadata": {},
   "outputs": [],
   "source": [
    "y = df_test[\"Irrelevant\"]"
   ]
  },
  {
   "cell_type": "code",
   "execution_count": 274,
   "id": "b0536330-9eed-4de9-b278-13cabc945fe0",
   "metadata": {},
   "outputs": [],
   "source": [
    "y_encoded = y.map({\n",
    "    \"Negative\":0,\n",
    "    \"Positive\":1,\n",
    "    \"Neutral\":2,\n",
    "    \"Irrelevant\":3\n",
    "})"
   ]
  },
  {
   "cell_type": "code",
   "execution_count": 275,
   "id": "fa894248-661b-4f06-9dff-4728524d094c",
   "metadata": {},
   "outputs": [],
   "source": [
    "X = df_test[\"text\"]"
   ]
  },
  {
   "cell_type": "code",
   "execution_count": 276,
   "id": "215149e3-115c-441d-a306-6aa1a31a67c9",
   "metadata": {},
   "outputs": [
    {
     "data": {
      "text/plain": [
       "0      bbc news  amazon boss jeff bezos rejects claim...\n",
       "1      microsoft why do i pay for word when it functi...\n",
       "2      csgo matchmaking is so full of closet hacking ...\n",
       "3      now the president is slapping americans in the...\n",
       "4      hi eahelp ive had madeleine mccann in my cella...\n",
       "                             ...                        \n",
       "994     toronto is the arts and culture capital of ca...\n",
       "995    this is actually a good move tot bring more vi...\n",
       "996    today sucked so its time to drink wine n play ...\n",
       "997      bought a fraction of microsoft today small wins\n",
       "998    johnson  johnson to stop selling talc baby pow...\n",
       "Name: text, Length: 999, dtype: object"
      ]
     },
     "execution_count": 276,
     "metadata": {},
     "output_type": "execute_result"
    }
   ],
   "source": [
    "X"
   ]
  },
  {
   "cell_type": "code",
   "execution_count": null,
   "id": "b9e98ed8-b242-4291-8162-e6b30e795579",
   "metadata": {},
   "outputs": [],
   "source": []
  },
  {
   "cell_type": "code",
   "execution_count": 277,
   "id": "765a7d03-6fa4-43cc-b1bc-42fd9803766a",
   "metadata": {},
   "outputs": [],
   "source": [
    "X_sparse = vectorizer.transform(X)"
   ]
  },
  {
   "cell_type": "code",
   "execution_count": null,
   "id": "a467fe8c-6a3a-404d-a030-24fa779581ba",
   "metadata": {},
   "outputs": [],
   "source": []
  },
  {
   "cell_type": "code",
   "execution_count": 278,
   "id": "fe86e810-0ed9-475f-815c-4fe7e973a1b9",
   "metadata": {},
   "outputs": [
    {
     "data": {
      "text/plain": [
       "<Compressed Sparse Row sparse matrix of dtype 'float64'\n",
       "\twith 6369 stored elements and shape (999, 1000)>"
      ]
     },
     "execution_count": 278,
     "metadata": {},
     "output_type": "execute_result"
    }
   ],
   "source": [
    "X_sparse"
   ]
  },
  {
   "cell_type": "code",
   "execution_count": 279,
   "id": "18376ab1-7386-4036-a821-6ec135856b98",
   "metadata": {},
   "outputs": [
    {
     "data": {
      "text/plain": [
       "(999,)"
      ]
     },
     "execution_count": 279,
     "metadata": {},
     "output_type": "execute_result"
    }
   ],
   "source": [
    "y_encoded.shape"
   ]
  },
  {
   "cell_type": "code",
   "execution_count": 280,
   "id": "495e8922-3f12-405a-a530-193ce30de2e5",
   "metadata": {},
   "outputs": [
    {
     "data": {
      "text/plain": [
       "0      2\n",
       "1      0\n",
       "2      0\n",
       "3      2\n",
       "4      0\n",
       "      ..\n",
       "994    3\n",
       "995    3\n",
       "996    1\n",
       "997    1\n",
       "998    2\n",
       "Name: Irrelevant, Length: 999, dtype: int64"
      ]
     },
     "execution_count": 280,
     "metadata": {},
     "output_type": "execute_result"
    }
   ],
   "source": [
    "y_encoded"
   ]
  },
  {
   "cell_type": "code",
   "execution_count": 281,
   "id": "2140209b-7152-4faa-acf0-3ffdb326445c",
   "metadata": {},
   "outputs": [
    {
     "data": {
      "text/plain": [
       "1000"
      ]
     },
     "execution_count": 281,
     "metadata": {},
     "output_type": "execute_result"
    }
   ],
   "source": [
    "len(vectorizer.vocabulary_)"
   ]
  },
  {
   "cell_type": "code",
   "execution_count": 282,
   "id": "875afa07-43a8-4f08-a4eb-4440272c9779",
   "metadata": {},
   "outputs": [],
   "source": [
    "y_validated_pred = model.predict(X_sparse)"
   ]
  },
  {
   "cell_type": "code",
   "execution_count": 283,
   "id": "1a3d51c0-51d3-4af2-b34e-f3a3de0ffd0a",
   "metadata": {},
   "outputs": [
    {
     "name": "stdout",
     "output_type": "stream",
     "text": [
      "              precision    recall  f1-score   support\n",
      "\n",
      "           0       0.94      0.91      0.93       276\n",
      "           1       0.91      0.86      0.89       294\n",
      "           2       0.89      0.93      0.91       273\n",
      "           3       0.85      0.93      0.89       156\n",
      "\n",
      "    accuracy                           0.90       999\n",
      "   macro avg       0.90      0.91      0.90       999\n",
      "weighted avg       0.90      0.90      0.90       999\n",
      "\n"
     ]
    }
   ],
   "source": [
    "print(classification_report(y_validated_pred,y_encoded))"
   ]
  },
  {
   "cell_type": "markdown",
   "id": "4c8563c0-83e9-4d18-be1e-e4514be6b40a",
   "metadata": {},
   "source": [
    "**Our own custom tweet**"
   ]
  },
  {
   "cell_type": "code",
   "execution_count": 312,
   "id": "28ed70ed-7060-40d5-ab1f-c4c0b9c5c917",
   "metadata": {},
   "outputs": [
    {
     "name": "stdout",
     "output_type": "stream",
     "text": [
      "The text: (I love how peaceful mornings can be. ☕️🌅) | The mood: (Positive)\n",
      "The text: (Ugh, this weather is ruining my whole day. 🌧️😩) | The mood: (Neutral)\n",
      "The text: (Just finished a great book — feeling inspired! 📚✨) | The mood: (Positive)\n",
      "The text: (Can’t believe I missed my train again. 🚆😒) | The mood: (Irrelevant)\n",
      "The text: (Not bad, but could have been better. 🤷‍♂️) | The mood: (Positive)\n",
      "The text: (Had an amazing dinner with friends tonight! 🍽️❤️) | The mood: (Positive)\n",
      "The text: (Why does this always happen to me? 😑) | The mood: (Negative)\n",
      "The text: (Totally neutral about this situation.) | The mood: (Negative)\n",
      "The text: (Feeling blessed and grateful today. 🙏🌟) | The mood: (Irrelevant)\n",
      "The text: (I’m so tired of dealing with this nonsense.) | The mood: (Negative)\n",
      "The text: (Nothing much going on, just chilling. 😌) | The mood: (Negative)\n",
      "The text: (Best day ever! Everything went perfectly. 🎉😃) | The mood: (Positive)\n",
      "The text: (I hate when plans get canceled last minute. 😠) | The mood: (Negative)\n",
      "The text: (Work was fine today — nothing special.) | The mood: (Irrelevant)\n",
      "The text: (So proud of what I accomplished this week! 💪🔥) | The mood: (Positive)\n",
      "The text: (This is the worst coffee I’ve ever had. ☕️🤢) | The mood: (Negative)\n",
      "The text: (Don’t really care either way. 🤷‍♀️) | The mood: (Negative)\n",
      "The text: (Super excited for the weekend! 🥳) | The mood: (Positive)\n",
      "The text: (Feeling so down today, hope tomorrow is better. 😞) | The mood: (Positive)\n",
      "The text: (It’s okay, I guess. Not great, not terrible.) | The mood: (Positive)\n"
     ]
    }
   ],
   "source": [
    "import pandas as pd\n",
    "\n",
    "tweets = [\n",
    "    \"I love how peaceful mornings can be. ☕️🌅\",\n",
    "    \"Ugh, this weather is ruining my whole day. 🌧️😩\",\n",
    "    \"Just finished a great book — feeling inspired! 📚✨\",\n",
    "    \"Can’t believe I missed my train again. 🚆😒\",\n",
    "    \"Not bad, but could have been better. 🤷‍♂️\",\n",
    "    \"Had an amazing dinner with friends tonight! 🍽️❤️\",\n",
    "    \"Why does this always happen to me? 😑\",\n",
    "    \"Totally neutral about this situation.\",\n",
    "    \"Feeling blessed and grateful today. 🙏🌟\",\n",
    "    \"I’m so tired of dealing with this nonsense.\",\n",
    "    \"Nothing much going on, just chilling. 😌\",\n",
    "    \"Best day ever! Everything went perfectly. 🎉😃\",\n",
    "    \"I hate when plans get canceled last minute. 😠\",\n",
    "    \"Work was fine today — nothing special.\",\n",
    "    \"So proud of what I accomplished this week! 💪🔥\",\n",
    "    \"This is the worst coffee I’ve ever had. ☕️🤢\",\n",
    "    \"Don’t really care either way. 🤷‍♀️\",\n",
    "    \"Super excited for the weekend! 🥳\",\n",
    "    \"Feeling so down today, hope tomorrow is better. 😞\",\n",
    "    \"It’s okay, I guess. Not great, not terrible.\"\n",
    "]\n",
    "\n",
    "decoder = {\n",
    "    0: \"Negative\",\n",
    "    1: \"Positive\",\n",
    "    2: \"Neutral\",\n",
    "    3: \"Irrelevant\"\n",
    "}\n",
    "\n",
    "\n",
    "df_line = pd.Series(tweets)\n",
    "clean_x = df_line.str.strip().str.lower().str.replace(r\"[^\\w\\s]\", \"\", regex=True)\n",
    "\n",
    "\n",
    "X_s = vectorizer.transform(clean_x)\n",
    "y_s = model.predict(X_s)\n",
    "\n",
    "\n",
    "for tweet, label in zip(tweets, y_s):\n",
    "    print(f\"The text: ({tweet}) | The mood: ({decoder[label]})\")\n"
   ]
  },
  {
   "cell_type": "code",
   "execution_count": 301,
   "id": "f36d7d26-6d48-4e6c-a6dc-bea323b1395e",
   "metadata": {},
   "outputs": [],
   "source": []
  },
  {
   "cell_type": "code",
   "execution_count": null,
   "id": "eff4d65c-7a62-4a7c-96fe-48ae9901cc36",
   "metadata": {},
   "outputs": [],
   "source": []
  },
  {
   "cell_type": "code",
   "execution_count": null,
   "id": "151f870d-98a7-499e-9b4b-7db656dfa145",
   "metadata": {},
   "outputs": [],
   "source": []
  },
  {
   "cell_type": "code",
   "execution_count": null,
   "id": "cc5568bc-5b7b-4b20-b8e5-3f5dbe3bc150",
   "metadata": {},
   "outputs": [],
   "source": []
  },
  {
   "cell_type": "code",
   "execution_count": null,
   "id": "1d29e70b-4997-481d-913e-6ed63aeff4f6",
   "metadata": {},
   "outputs": [],
   "source": []
  },
  {
   "cell_type": "code",
   "execution_count": null,
   "id": "6b9311dc-6d42-49d4-89c2-f321f1868ad3",
   "metadata": {},
   "outputs": [],
   "source": []
  }
 ],
 "metadata": {
  "kernelspec": {
   "display_name": "Python 3 (ipykernel)",
   "language": "python",
   "name": "python3"
  },
  "language_info": {
   "codemirror_mode": {
    "name": "ipython",
    "version": 3
   },
   "file_extension": ".py",
   "mimetype": "text/x-python",
   "name": "python",
   "nbconvert_exporter": "python",
   "pygments_lexer": "ipython3",
   "version": "3.13.2"
  }
 },
 "nbformat": 4,
 "nbformat_minor": 5
}
